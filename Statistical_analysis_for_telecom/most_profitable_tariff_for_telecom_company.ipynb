{
 "cells": [
  {
   "cell_type": "markdown",
   "metadata": {},
   "source": [
    "# Определение перспективного тарифа для телеком компании"
   ]
  },
  {
   "cell_type": "markdown",
   "metadata": {},
   "source": [
    "Данный проект - учебный, выполнен в рамках прохождения курса \"Аналитик данных\" на Яндекс.Практикуме. Все датасеты были предоставлены авторами курса и являются интеллектуальной собственностью."
   ]
  },
  {
   "cell_type": "markdown",
   "metadata": {},
   "source": [
    "Компания «Мегалайн» — федеральный оператор сотовой связи. Клиентам предлагают два тарифных плана: «Смарт» и «Ультра». Чтобы скорректировать рекламный бюджет, коммерческий департамент хочет понять, какой тариф приносит больше денег.\n",
    "Необходимо сделать предварительный анализ тарифов на небольшой выборке клиентов. В нашем распоряжении данные 500 пользователей «Мегалайна»: кто они, откуда, каким тарифом пользуются, сколько звонков и сообщений каждый отправил за 2018 год. Нужно проанализировать поведение клиентов и сделать вывод — какой тариф лучше."
   ]
  },
  {
   "cell_type": "markdown",
   "metadata": {},
   "source": [
    "## Описание тарифов"
   ]
  },
  {
   "cell_type": "markdown",
   "metadata": {},
   "source": [
    "### Тариф «Смарт»\n",
    "Ежемесячная плата: 550 рублей\n",
    "\n",
    "Включено 500 минут разговора, 50 сообщений и 15 Гб интернет-трафика\n",
    "\n",
    "Стоимость услуг сверх тарифного пакета:\n",
    "- минута разговора: 3 рубля\n",
    "- сообщение: 3 рубля\n",
    "- 1 Гб интернет-трафика: 200 рублей"
   ]
  },
  {
   "cell_type": "markdown",
   "metadata": {},
   "source": [
    "### Тариф «Ультра»\n",
    "Ежемесячная плата: 1950 рублей\n",
    "\n",
    "Включено 3000 минут разговора, 1000 сообщений и 30 Гб интернет-трафика\n",
    "\n",
    "Стоимость услуг сверх тарифного пакета:\n",
    "\n",
    "- минута разговора: 1 рубль\n",
    "- сообщение: 1 рубль\n",
    "- 1 Гб интернет-трафика: 150 рублей"
   ]
  },
  {
   "cell_type": "markdown",
   "metadata": {},
   "source": [
    "## План выполнения проекта"
   ]
  },
  {
   "cell_type": "markdown",
   "metadata": {},
   "source": [
    "[Шаг 1. Открытие файла с данными и изучение общей информации](#step1)\n",
    "\n",
    "[Шаг 2. Подготовка данных](#step2)\n",
    "\n",
    "[Шаг 3. Анализ данных](#step3)\n",
    "\n",
    "[Шаг 4. Проверка гипотез](#step4)\n",
    "\n",
    "[Шаг 5. Общий вывод](#step5)"
   ]
  },
  {
   "cell_type": "markdown",
   "metadata": {},
   "source": [
    "## <a id=\"step1\">Шаг 1. Открытие файла с данными и изучение общей информации </a>"
   ]
  },
  {
   "cell_type": "code",
   "execution_count": 1,
   "metadata": {},
   "outputs": [],
   "source": [
    "import pandas as pd\n",
    "import matplotlib.pyplot as plt\n",
    "import numpy as np\n",
    "import seaborn as sns\n",
    "from scipy import stats as st"
   ]
  },
  {
   "cell_type": "code",
   "execution_count": 2,
   "metadata": {},
   "outputs": [
    {
     "data": {
      "text/html": [
       "<div>\n",
       "<style scoped>\n",
       "    .dataframe tbody tr th:only-of-type {\n",
       "        vertical-align: middle;\n",
       "    }\n",
       "\n",
       "    .dataframe tbody tr th {\n",
       "        vertical-align: top;\n",
       "    }\n",
       "\n",
       "    .dataframe thead th {\n",
       "        text-align: right;\n",
       "    }\n",
       "</style>\n",
       "<table border=\"1\" class=\"dataframe\">\n",
       "  <thead>\n",
       "    <tr style=\"text-align: right;\">\n",
       "      <th></th>\n",
       "      <th>id</th>\n",
       "      <th>call_date</th>\n",
       "      <th>duration</th>\n",
       "      <th>user_id</th>\n",
       "    </tr>\n",
       "  </thead>\n",
       "  <tbody>\n",
       "    <tr>\n",
       "      <th>1943</th>\n",
       "      <td>1005_540</td>\n",
       "      <td>2018-10-01</td>\n",
       "      <td>5.80</td>\n",
       "      <td>1005</td>\n",
       "    </tr>\n",
       "    <tr>\n",
       "      <th>18771</th>\n",
       "      <td>1051_160</td>\n",
       "      <td>2018-07-21</td>\n",
       "      <td>3.11</td>\n",
       "      <td>1051</td>\n",
       "    </tr>\n",
       "    <tr>\n",
       "      <th>10673</th>\n",
       "      <td>1027_543</td>\n",
       "      <td>2018-04-19</td>\n",
       "      <td>8.60</td>\n",
       "      <td>1027</td>\n",
       "    </tr>\n",
       "  </tbody>\n",
       "</table>\n",
       "</div>"
      ],
      "text/plain": [
       "             id   call_date  duration  user_id\n",
       "1943   1005_540  2018-10-01      5.80     1005\n",
       "18771  1051_160  2018-07-21      3.11     1051\n",
       "10673  1027_543  2018-04-19      8.60     1027"
      ]
     },
     "execution_count": 2,
     "metadata": {},
     "output_type": "execute_result"
    }
   ],
   "source": [
    "calls = pd.read_csv('datasets/calls.csv')\n",
    "calls.sample(3)"
   ]
  },
  {
   "cell_type": "code",
   "execution_count": 3,
   "metadata": {},
   "outputs": [
    {
     "name": "stdout",
     "output_type": "stream",
     "text": [
      "<class 'pandas.core.frame.DataFrame'>\n",
      "RangeIndex: 202607 entries, 0 to 202606\n",
      "Data columns (total 4 columns):\n",
      " #   Column     Non-Null Count   Dtype  \n",
      "---  ------     --------------   -----  \n",
      " 0   id         202607 non-null  object \n",
      " 1   call_date  202607 non-null  object \n",
      " 2   duration   202607 non-null  float64\n",
      " 3   user_id    202607 non-null  int64  \n",
      "dtypes: float64(1), int64(1), object(2)\n",
      "memory usage: 6.2+ MB\n"
     ]
    }
   ],
   "source": [
    "calls.info()"
   ]
  },
  {
   "cell_type": "markdown",
   "metadata": {},
   "source": [
    "В таблице со звонками 202607 строк, 4 столбца, пропусков нет. Из этой таблицы мы можем извлечь id юзера, дату звонка и его длительность. Столбцы id и user_id частично дублируют друг друга, т.к. id - это индификатор звонка, а user_id - индификатор пользователя."
   ]
  },
  {
   "cell_type": "code",
   "execution_count": 4,
   "metadata": {},
   "outputs": [
    {
     "data": {
      "text/html": [
       "<div>\n",
       "<style scoped>\n",
       "    .dataframe tbody tr th:only-of-type {\n",
       "        vertical-align: middle;\n",
       "    }\n",
       "\n",
       "    .dataframe tbody tr th {\n",
       "        vertical-align: top;\n",
       "    }\n",
       "\n",
       "    .dataframe thead th {\n",
       "        text-align: right;\n",
       "    }\n",
       "</style>\n",
       "<table border=\"1\" class=\"dataframe\">\n",
       "  <thead>\n",
       "    <tr style=\"text-align: right;\">\n",
       "      <th></th>\n",
       "      <th>Unnamed: 0</th>\n",
       "      <th>id</th>\n",
       "      <th>mb_used</th>\n",
       "      <th>session_date</th>\n",
       "      <th>user_id</th>\n",
       "    </tr>\n",
       "  </thead>\n",
       "  <tbody>\n",
       "    <tr>\n",
       "      <th>72969</th>\n",
       "      <td>72969</td>\n",
       "      <td>1247_7</td>\n",
       "      <td>224.42</td>\n",
       "      <td>2018-06-30</td>\n",
       "      <td>1247</td>\n",
       "    </tr>\n",
       "    <tr>\n",
       "      <th>95285</th>\n",
       "      <td>95285</td>\n",
       "      <td>1321_549</td>\n",
       "      <td>411.53</td>\n",
       "      <td>2018-07-17</td>\n",
       "      <td>1321</td>\n",
       "    </tr>\n",
       "    <tr>\n",
       "      <th>110274</th>\n",
       "      <td>110274</td>\n",
       "      <td>1374_485</td>\n",
       "      <td>805.34</td>\n",
       "      <td>2018-07-03</td>\n",
       "      <td>1374</td>\n",
       "    </tr>\n",
       "  </tbody>\n",
       "</table>\n",
       "</div>"
      ],
      "text/plain": [
       "        Unnamed: 0        id  mb_used session_date  user_id\n",
       "72969        72969    1247_7   224.42   2018-06-30     1247\n",
       "95285        95285  1321_549   411.53   2018-07-17     1321\n",
       "110274      110274  1374_485   805.34   2018-07-03     1374"
      ]
     },
     "execution_count": 4,
     "metadata": {},
     "output_type": "execute_result"
    }
   ],
   "source": [
    "internet = pd.read_csv('datasets/internet.csv')\n",
    "internet.sample(3)"
   ]
  },
  {
   "cell_type": "code",
   "execution_count": 5,
   "metadata": {},
   "outputs": [
    {
     "name": "stdout",
     "output_type": "stream",
     "text": [
      "<class 'pandas.core.frame.DataFrame'>\n",
      "RangeIndex: 149396 entries, 0 to 149395\n",
      "Data columns (total 5 columns):\n",
      " #   Column        Non-Null Count   Dtype  \n",
      "---  ------        --------------   -----  \n",
      " 0   Unnamed: 0    149396 non-null  int64  \n",
      " 1   id            149396 non-null  object \n",
      " 2   mb_used       149396 non-null  float64\n",
      " 3   session_date  149396 non-null  object \n",
      " 4   user_id       149396 non-null  int64  \n",
      "dtypes: float64(1), int64(2), object(2)\n",
      "memory usage: 5.7+ MB\n"
     ]
    }
   ],
   "source": [
    "internet.info()"
   ]
  },
  {
   "cell_type": "markdown",
   "metadata": {},
   "source": [
    "В отражающей интернет трафик таблице 149396 строк, 5 столбцов, пропусков нет. Из этой таблицы мы можем извлечь id юзера, дату, когда юзер пользовался интернетом и количество мегабайт, которые он потратил. Нулевой столбец дублирует индексы строк."
   ]
  },
  {
   "cell_type": "code",
   "execution_count": 6,
   "metadata": {},
   "outputs": [
    {
     "data": {
      "text/html": [
       "<div>\n",
       "<style scoped>\n",
       "    .dataframe tbody tr th:only-of-type {\n",
       "        vertical-align: middle;\n",
       "    }\n",
       "\n",
       "    .dataframe tbody tr th {\n",
       "        vertical-align: top;\n",
       "    }\n",
       "\n",
       "    .dataframe thead th {\n",
       "        text-align: right;\n",
       "    }\n",
       "</style>\n",
       "<table border=\"1\" class=\"dataframe\">\n",
       "  <thead>\n",
       "    <tr style=\"text-align: right;\">\n",
       "      <th></th>\n",
       "      <th>id</th>\n",
       "      <th>message_date</th>\n",
       "      <th>user_id</th>\n",
       "    </tr>\n",
       "  </thead>\n",
       "  <tbody>\n",
       "    <tr>\n",
       "      <th>26291</th>\n",
       "      <td>1110_156</td>\n",
       "      <td>2018-12-21</td>\n",
       "      <td>1110</td>\n",
       "    </tr>\n",
       "    <tr>\n",
       "      <th>31615</th>\n",
       "      <td>1142_134</td>\n",
       "      <td>2018-04-13</td>\n",
       "      <td>1142</td>\n",
       "    </tr>\n",
       "    <tr>\n",
       "      <th>66238</th>\n",
       "      <td>1282_670</td>\n",
       "      <td>2018-12-05</td>\n",
       "      <td>1282</td>\n",
       "    </tr>\n",
       "  </tbody>\n",
       "</table>\n",
       "</div>"
      ],
      "text/plain": [
       "             id message_date  user_id\n",
       "26291  1110_156   2018-12-21     1110\n",
       "31615  1142_134   2018-04-13     1142\n",
       "66238  1282_670   2018-12-05     1282"
      ]
     },
     "execution_count": 6,
     "metadata": {},
     "output_type": "execute_result"
    }
   ],
   "source": [
    "messages = pd.read_csv('datasets/messages.csv')\n",
    "messages.sample(3)"
   ]
  },
  {
   "cell_type": "code",
   "execution_count": 7,
   "metadata": {},
   "outputs": [
    {
     "name": "stdout",
     "output_type": "stream",
     "text": [
      "<class 'pandas.core.frame.DataFrame'>\n",
      "RangeIndex: 123036 entries, 0 to 123035\n",
      "Data columns (total 3 columns):\n",
      " #   Column        Non-Null Count   Dtype \n",
      "---  ------        --------------   ----- \n",
      " 0   id            123036 non-null  object\n",
      " 1   message_date  123036 non-null  object\n",
      " 2   user_id       123036 non-null  int64 \n",
      "dtypes: int64(1), object(2)\n",
      "memory usage: 2.8+ MB\n"
     ]
    }
   ],
   "source": [
    "messages.info()"
   ]
  },
  {
   "cell_type": "markdown",
   "metadata": {},
   "source": [
    "В таблице с сообщениями 123036 строк, 3 столбца, пропусков также нет. В нашем распоряжении id юзера и дата отправки сообщения. "
   ]
  },
  {
   "cell_type": "code",
   "execution_count": 8,
   "metadata": {},
   "outputs": [
    {
     "data": {
      "text/html": [
       "<div>\n",
       "<style scoped>\n",
       "    .dataframe tbody tr th:only-of-type {\n",
       "        vertical-align: middle;\n",
       "    }\n",
       "\n",
       "    .dataframe tbody tr th {\n",
       "        vertical-align: top;\n",
       "    }\n",
       "\n",
       "    .dataframe thead th {\n",
       "        text-align: right;\n",
       "    }\n",
       "</style>\n",
       "<table border=\"1\" class=\"dataframe\">\n",
       "  <thead>\n",
       "    <tr style=\"text-align: right;\">\n",
       "      <th></th>\n",
       "      <th>messages_included</th>\n",
       "      <th>mb_per_month_included</th>\n",
       "      <th>minutes_included</th>\n",
       "      <th>rub_monthly_fee</th>\n",
       "      <th>rub_per_gb</th>\n",
       "      <th>rub_per_message</th>\n",
       "      <th>rub_per_minute</th>\n",
       "      <th>tariff_name</th>\n",
       "    </tr>\n",
       "  </thead>\n",
       "  <tbody>\n",
       "    <tr>\n",
       "      <th>0</th>\n",
       "      <td>50</td>\n",
       "      <td>15360</td>\n",
       "      <td>500</td>\n",
       "      <td>550</td>\n",
       "      <td>200</td>\n",
       "      <td>3</td>\n",
       "      <td>3</td>\n",
       "      <td>smart</td>\n",
       "    </tr>\n",
       "    <tr>\n",
       "      <th>1</th>\n",
       "      <td>1000</td>\n",
       "      <td>30720</td>\n",
       "      <td>3000</td>\n",
       "      <td>1950</td>\n",
       "      <td>150</td>\n",
       "      <td>1</td>\n",
       "      <td>1</td>\n",
       "      <td>ultra</td>\n",
       "    </tr>\n",
       "  </tbody>\n",
       "</table>\n",
       "</div>"
      ],
      "text/plain": [
       "   messages_included  mb_per_month_included  minutes_included  \\\n",
       "0                 50                  15360               500   \n",
       "1               1000                  30720              3000   \n",
       "\n",
       "   rub_monthly_fee  rub_per_gb  rub_per_message  rub_per_minute tariff_name  \n",
       "0              550         200                3               3       smart  \n",
       "1             1950         150                1               1       ultra  "
      ]
     },
     "execution_count": 8,
     "metadata": {},
     "output_type": "execute_result"
    }
   ],
   "source": [
    "tariffs = pd.read_csv('datasets/tariffs.csv')\n",
    "tariffs"
   ]
  },
  {
   "cell_type": "code",
   "execution_count": 9,
   "metadata": {},
   "outputs": [
    {
     "data": {
      "text/html": [
       "<div>\n",
       "<style scoped>\n",
       "    .dataframe tbody tr th:only-of-type {\n",
       "        vertical-align: middle;\n",
       "    }\n",
       "\n",
       "    .dataframe tbody tr th {\n",
       "        vertical-align: top;\n",
       "    }\n",
       "\n",
       "    .dataframe thead th {\n",
       "        text-align: right;\n",
       "    }\n",
       "</style>\n",
       "<table border=\"1\" class=\"dataframe\">\n",
       "  <thead>\n",
       "    <tr style=\"text-align: right;\">\n",
       "      <th></th>\n",
       "      <th>user_id</th>\n",
       "      <th>age</th>\n",
       "      <th>churn_date</th>\n",
       "      <th>city</th>\n",
       "      <th>first_name</th>\n",
       "      <th>last_name</th>\n",
       "      <th>reg_date</th>\n",
       "      <th>tariff</th>\n",
       "    </tr>\n",
       "  </thead>\n",
       "  <tbody>\n",
       "    <tr>\n",
       "      <th>287</th>\n",
       "      <td>1287</td>\n",
       "      <td>39</td>\n",
       "      <td>NaN</td>\n",
       "      <td>Севастополь</td>\n",
       "      <td>Вениамин</td>\n",
       "      <td>Мишин</td>\n",
       "      <td>2018-09-23</td>\n",
       "      <td>smart</td>\n",
       "    </tr>\n",
       "    <tr>\n",
       "      <th>194</th>\n",
       "      <td>1194</td>\n",
       "      <td>70</td>\n",
       "      <td>NaN</td>\n",
       "      <td>Москва</td>\n",
       "      <td>Егор</td>\n",
       "      <td>Наумов</td>\n",
       "      <td>2018-12-03</td>\n",
       "      <td>smart</td>\n",
       "    </tr>\n",
       "    <tr>\n",
       "      <th>42</th>\n",
       "      <td>1042</td>\n",
       "      <td>42</td>\n",
       "      <td>NaN</td>\n",
       "      <td>Хабаровск</td>\n",
       "      <td>Константин</td>\n",
       "      <td>Добрынин</td>\n",
       "      <td>2018-11-25</td>\n",
       "      <td>smart</td>\n",
       "    </tr>\n",
       "  </tbody>\n",
       "</table>\n",
       "</div>"
      ],
      "text/plain": [
       "     user_id  age churn_date         city  first_name last_name    reg_date  \\\n",
       "287     1287   39        NaN  Севастополь    Вениамин     Мишин  2018-09-23   \n",
       "194     1194   70        NaN       Москва        Егор    Наумов  2018-12-03   \n",
       "42      1042   42        NaN    Хабаровск  Константин  Добрынин  2018-11-25   \n",
       "\n",
       "    tariff  \n",
       "287  smart  \n",
       "194  smart  \n",
       "42   smart  "
      ]
     },
     "execution_count": 9,
     "metadata": {},
     "output_type": "execute_result"
    }
   ],
   "source": [
    "users = pd.read_csv('datasets/users.csv')\n",
    "users.sample(3)"
   ]
  },
  {
   "cell_type": "code",
   "execution_count": 10,
   "metadata": {},
   "outputs": [
    {
     "name": "stdout",
     "output_type": "stream",
     "text": [
      "<class 'pandas.core.frame.DataFrame'>\n",
      "RangeIndex: 500 entries, 0 to 499\n",
      "Data columns (total 8 columns):\n",
      " #   Column      Non-Null Count  Dtype \n",
      "---  ------      --------------  ----- \n",
      " 0   user_id     500 non-null    int64 \n",
      " 1   age         500 non-null    int64 \n",
      " 2   churn_date  38 non-null     object\n",
      " 3   city        500 non-null    object\n",
      " 4   first_name  500 non-null    object\n",
      " 5   last_name   500 non-null    object\n",
      " 6   reg_date    500 non-null    object\n",
      " 7   tariff      500 non-null    object\n",
      "dtypes: int64(2), object(6)\n",
      "memory usage: 31.4+ KB\n"
     ]
    }
   ],
   "source": [
    "users.info()"
   ]
  },
  {
   "cell_type": "markdown",
   "metadata": {},
   "source": [
    "Также у нас есть небольшая таблица с данными пользователей. В ней всего 500 строк, 8 столбцов с данными об имени, возрасте, месте проживания, дате подключения и тарифе. Пропуски есть только в столбце с датой прекращения пользования тарифом, т.к. у многих юзеров данные тарифы ещё активны. Эти пропуски можно проигнорировать."
   ]
  },
  {
   "cell_type": "markdown",
   "metadata": {},
   "source": [
    "## <a id=\"step2\">Шаг 2. Подготовка данных </a>"
   ]
  },
  {
   "cell_type": "code",
   "execution_count": 11,
   "metadata": {},
   "outputs": [],
   "source": [
    "#заменим тип данных на дату в столбцах с датами и добавим новые столбцы с месецами\n",
    "calls['call_date'] = pd.to_datetime(calls['call_date'], format='%Y-%m-%d')\n",
    "calls['month'] = pd.DatetimeIndex(calls['call_date']).month\n",
    "messages['message_date'] = pd.to_datetime(messages['message_date'], format='%Y-%m-%d')\n",
    "messages['month'] = pd.DatetimeIndex(messages['message_date']).month\n",
    "internet['session_date'] = pd.to_datetime(internet['session_date'], format='%Y-%m-%d')\n",
    "internet['month'] = pd.DatetimeIndex(internet['session_date']).month"
   ]
  },
  {
   "cell_type": "markdown",
   "metadata": {},
   "source": [
    "### Звонки"
   ]
  },
  {
   "cell_type": "markdown",
   "metadata": {},
   "source": [
    "Я долго думала что делать со звонками длительностью 0 минут. Удалять их нельзя, ведь это почти 20% нашего датасета. Заказав выписку у мобильного оператора по своему своему номеру и поизучав при каком условии туда попадают звонки, я пришла к выводу, что недозвонов в этой таблице нет. Мой оператор правда сразу все исходящие звонки, где была снята трубка на другом конце автоматом округляет, поэтому значений меньше нуля нет вовсе, всё просто в минутах. В случае нашего датасета я решила все же предположить, что нулевые звонки, это звонки, которые длились меньше минуты. То есть счетчик секунд включался по истичении перовой минуты. А это значит, что ко всем звонкам датасета следует добавить единицу. Такая теория особенно имеет смысл, если в реальном мире в тарифе, по которому создавался этот датасет, первая минута шла в подарок. Были раньше такие тарифы, я помню) В любом случае добавление лишней минуты не сильно скажется на результатах исследования."
   ]
  },
  {
   "cell_type": "code",
   "execution_count": 12,
   "metadata": {},
   "outputs": [],
   "source": [
    "calls['duration'] = calls['duration'] + 1"
   ]
  },
  {
   "cell_type": "code",
   "execution_count": 13,
   "metadata": {},
   "outputs": [],
   "source": [
    "#округлим время разговоров до минут, согласно тарифу в большую сторону\n",
    "calls['minutes_spent'] = np.ceil(calls['duration']).astype('int')\n",
    "#мегабайты тоже округлим, пока не забыли про них\n",
    "internet['mb_spent'] = np.ceil(internet['mb_used']).astype('int')"
   ]
  },
  {
   "cell_type": "code",
   "execution_count": 14,
   "metadata": {},
   "outputs": [],
   "source": [
    "#посчитаем для каждого пользователя количество сделанных звонков и израсходованных минут разговора по месяцам\n",
    "calls_minutes = calls.pivot_table(index = ('user_id', 'month'), values = ('id', 'minutes_spent'), aggfunc= {'id': 'count', 'minutes_spent': 'sum'})\n",
    "calls_minutes['index'] = calls_minutes.index\n",
    "#превратим двойной индекс в столбцы user_id и month, для того, чтобы потом по ним объединять таблицы\n",
    "calls_minutes[['user_id', 'month']] = pd.DataFrame(calls_minutes['index'].tolist(), index=calls_minutes.index)"
   ]
  },
  {
   "cell_type": "code",
   "execution_count": 15,
   "metadata": {},
   "outputs": [],
   "source": [
    "#объеденим таблицы юзеров и звонков\n",
    "user_calls = users.join(calls_minutes.set_index('user_id'), on = 'user_id')"
   ]
  },
  {
   "cell_type": "code",
   "execution_count": 16,
   "metadata": {},
   "outputs": [],
   "source": [
    "#добавим столбец с включенными в тариф минутами минутами\n",
    "def minutes_included(data):\n",
    "    if data['tariff'] == 'ultra':\n",
    "        return 3000\n",
    "    elif data['tariff'] == 'smart':\n",
    "        return 500    \n",
    "user_calls['minutes_included'] = user_calls.apply(minutes_included, axis=1)       "
   ]
  },
  {
   "cell_type": "code",
   "execution_count": 17,
   "metadata": {},
   "outputs": [],
   "source": [
    "#добавим столбец с ценой за минуту\n",
    "def rub_per_minute_or_message(data):\n",
    "    if data['tariff'] == 'ultra':\n",
    "        return 1\n",
    "    elif data['tariff'] == 'smart':\n",
    "        return 3   \n",
    "user_calls['rub_per_minute'] = user_calls.apply(rub_per_minute_or_message, axis=1)"
   ]
  },
  {
   "cell_type": "code",
   "execution_count": 18,
   "metadata": {},
   "outputs": [],
   "source": [
    "#вычислим помесячную выручку с каждого пользователя по звонкам\n",
    "user_calls['spent_on_calls'] = (user_calls['minutes_spent'] - user_calls['minutes_included']) * user_calls['rub_per_minute']"
   ]
  },
  {
   "cell_type": "code",
   "execution_count": 19,
   "metadata": {},
   "outputs": [],
   "source": [
    "#заменим отрицательные значения на нулевые, т.к. оператор ничего не заработал \n",
    "user_calls['spent_on_calls'] = user_calls['spent_on_calls'].where(user_calls['spent_on_calls'] >= 0, 0)"
   ]
  },
  {
   "cell_type": "markdown",
   "metadata": {},
   "source": [
    "### Сообщения"
   ]
  },
  {
   "cell_type": "code",
   "execution_count": 20,
   "metadata": {},
   "outputs": [],
   "source": [
    "#посчитаем для каждого пользователя количество отправленных сообщений по месяцам\n",
    "messages_count = messages.pivot_table(index = ('user_id', 'month'), values = 'id', aggfunc = 'count')\n",
    "messages_count.rename(columns={'id':'messages_spent'}, inplace=True)\n",
    "messages_count['index'] = messages_count.index\n",
    "messages_count[['user_id', 'month']] = pd.DataFrame(messages_count['index'].tolist(), index=messages_count.index)"
   ]
  },
  {
   "cell_type": "code",
   "execution_count": 21,
   "metadata": {},
   "outputs": [],
   "source": [
    "#объеденим таблицы юзеров и сообщений\n",
    "user_messages = users.join(messages_count.set_index('user_id'), on = 'user_id')"
   ]
  },
  {
   "cell_type": "code",
   "execution_count": 22,
   "metadata": {},
   "outputs": [],
   "source": [
    "#добавим столбец с включенными в тариф сообщениями\n",
    "def messages_included(data):\n",
    "    if data['tariff'] == 'ultra':\n",
    "        return 1000\n",
    "    elif data['tariff'] == 'smart':\n",
    "        return 50   \n",
    "user_messages['messages_included'] = user_messages.apply(messages_included, axis=1) "
   ]
  },
  {
   "cell_type": "code",
   "execution_count": 23,
   "metadata": {},
   "outputs": [],
   "source": [
    "#добавим столбец с ценой за сообщение \n",
    "user_messages['rub_per_message'] = user_messages.apply(rub_per_minute_or_message, axis=1)"
   ]
  },
  {
   "cell_type": "code",
   "execution_count": 24,
   "metadata": {},
   "outputs": [],
   "source": [
    "#вычислим помесячную выручку с каждого пользователя по сообщениям\n",
    "user_messages['spent_on_messages'] = (user_messages['messages_spent'] - user_messages['messages_included']) * user_messages['rub_per_message']\n",
    "user_messages['spent_on_messages'] = user_messages['spent_on_messages'].where(user_messages['spent_on_messages'] >= 0, 0)"
   ]
  },
  {
   "cell_type": "markdown",
   "metadata": {},
   "source": [
    "### Интернет"
   ]
  },
  {
   "cell_type": "code",
   "execution_count": 25,
   "metadata": {},
   "outputs": [],
   "source": [
    "#посчитаем для каждого пользователя объем израсходованного интернет-трафика по месяцам\n",
    "traffic = internet.pivot_table(index = ('user_id', 'month'), values = 'mb_spent', aggfunc = 'sum')\n",
    "traffic['index'] = traffic.index\n",
    "traffic[['user_id', 'month']] = pd.DataFrame(traffic['index'].tolist(), index=traffic.index)"
   ]
  },
  {
   "cell_type": "code",
   "execution_count": 26,
   "metadata": {},
   "outputs": [],
   "source": [
    "#объеденим таблицы юзеров и интернет_трафика\n",
    "user_traffic = users.join(traffic.set_index('user_id'), on = 'user_id')"
   ]
  },
  {
   "cell_type": "code",
   "execution_count": 27,
   "metadata": {},
   "outputs": [],
   "source": [
    "#добавим столбец с включенными в тариф мегабайтами\n",
    "def mb_per_month_included(data):\n",
    "    if data['tariff'] == 'ultra':\n",
    "        return 30720\n",
    "    elif data['tariff'] == 'smart':\n",
    "        return 15360   \n",
    "user_traffic['mb_per_month_included'] = user_traffic.apply(mb_per_month_included, axis=1) "
   ]
  },
  {
   "cell_type": "code",
   "execution_count": 28,
   "metadata": {},
   "outputs": [],
   "source": [
    "#добавим столбец с ценой за гигабит\n",
    "def rub_per_gb(data):\n",
    "    if data['tariff'] == 'ultra':\n",
    "        return 150\n",
    "    elif data['tariff'] == 'smart':\n",
    "        return 200   \n",
    "user_traffic['rub_per_gb'] = user_traffic.apply(rub_per_gb, axis=1)"
   ]
  },
  {
   "cell_type": "code",
   "execution_count": 29,
   "metadata": {},
   "outputs": [],
   "source": [
    "#вычислим помесячную выручку с каждого пользователя по интернет-трафику\n",
    "user_traffic['spent_on_traffic'] = np.ceil((user_traffic['mb_spent'] - user_traffic['mb_per_month_included']) / 1000) * user_traffic['rub_per_gb']\n",
    "user_traffic['spent_on_traffic'] = user_traffic['spent_on_traffic'].where(user_traffic['spent_on_traffic'] >= 0, 0)"
   ]
  },
  {
   "cell_type": "markdown",
   "metadata": {},
   "source": [
    "### Сведение статистик в одну таблицу"
   ]
  },
  {
   "cell_type": "code",
   "execution_count": 30,
   "metadata": {},
   "outputs": [],
   "source": [
    "calls_and_messages = pd.merge(user_calls, user_messages, 'outer', on = ['user_id', 'month'])"
   ]
  },
  {
   "cell_type": "code",
   "execution_count": 31,
   "metadata": {},
   "outputs": [],
   "source": [
    "#создадим таблицу, которая будет отражать, сколько потратили пользователи на разные услуги\n",
    "user_spent = pd.merge(calls_and_messages, user_traffic, on = ['user_id', 'month'], how = 'outer')"
   ]
  },
  {
   "cell_type": "code",
   "execution_count": 32,
   "metadata": {},
   "outputs": [],
   "source": [
    "#добавим столбец с абонентской платой\n",
    "def rub_monthly_fee(data):\n",
    "    if data['tariff'] == 'ultra':\n",
    "        return 1950\n",
    "    elif data['tariff'] == 'smart':\n",
    "        return 550   \n",
    "user_spent['rub_monthly_fee'] = user_spent.apply(rub_monthly_fee, axis=1)"
   ]
  },
  {
   "cell_type": "code",
   "execution_count": 33,
   "metadata": {},
   "outputs": [
    {
     "data": {
      "text/plain": [
       "0"
      ]
     },
     "execution_count": 33,
     "metadata": {},
     "output_type": "execute_result"
    }
   ],
   "source": [
    "#проверим попали ли в нашу таблицу юзеры, которые и не звонили, и не писали сообщений и не пользовались интернетом.\n",
    "user_spent[user_spent['spent_on_calls'].isnull() & user_spent['spent_on_messages'].isnull() & user_spent['spent_on_traffic'].isnull()].shape[0]"
   ]
  },
  {
   "cell_type": "markdown",
   "metadata": {},
   "source": [
    "Раз таких пользователей нет, то можно заменить отсутсвующие значения на нули, потому что бывают пользователи, которые только звонят, или только пользуются интернетом. Раз они совершили, хоть какую-то активность, значит сим-карта активна. "
   ]
  },
  {
   "cell_type": "code",
   "execution_count": 34,
   "metadata": {},
   "outputs": [],
   "source": [
    "user_spent['spent_on_calls'] = user_spent['spent_on_calls'].fillna(0)\n",
    "user_spent['spent_on_messages'] = user_spent['spent_on_messages'].fillna(0)\n",
    "user_spent['spent_on_traffic'] = user_spent['spent_on_traffic'].fillna(0)"
   ]
  },
  {
   "cell_type": "code",
   "execution_count": 35,
   "metadata": {},
   "outputs": [],
   "source": [
    "#добавим столбец, в котором посчитаем сколько всего заплатил ползователь оператору за каждый месяц\n",
    "user_spent['total'] = user_spent['spent_on_calls'] + user_spent['spent_on_messages'] + user_spent['spent_on_traffic'] + user_spent['rub_monthly_fee']"
   ]
  },
  {
   "cell_type": "code",
   "execution_count": 36,
   "metadata": {},
   "outputs": [],
   "source": [
    "#уберем из нашей таблицы лишние столбцы и строки, приведем к целочислительному типу\n",
    "monthly_revenue = user_spent[['user_id', 'month', 'total', 'spent_on_calls', 'spent_on_messages', 'spent_on_traffic', 'rub_monthly_fee', 'city', 'tariff']].dropna()\n",
    "monthly_revenue[['user_id', 'month', 'total', 'spent_on_calls', 'spent_on_messages', 'spent_on_traffic', 'rub_monthly_fee']] = monthly_revenue[['user_id', 'month', 'total', 'spent_on_calls', 'spent_on_messages', 'spent_on_traffic', 'rub_monthly_fee']].astype('int')"
   ]
  },
  {
   "cell_type": "code",
   "execution_count": 37,
   "metadata": {},
   "outputs": [
    {
     "data": {
      "text/html": [
       "<div>\n",
       "<style scoped>\n",
       "    .dataframe tbody tr th:only-of-type {\n",
       "        vertical-align: middle;\n",
       "    }\n",
       "\n",
       "    .dataframe tbody tr th {\n",
       "        vertical-align: top;\n",
       "    }\n",
       "\n",
       "    .dataframe thead th {\n",
       "        text-align: right;\n",
       "    }\n",
       "</style>\n",
       "<table border=\"1\" class=\"dataframe\">\n",
       "  <thead>\n",
       "    <tr style=\"text-align: right;\">\n",
       "      <th></th>\n",
       "      <th>user_id</th>\n",
       "      <th>month</th>\n",
       "      <th>total</th>\n",
       "      <th>spent_on_calls</th>\n",
       "      <th>spent_on_messages</th>\n",
       "      <th>spent_on_traffic</th>\n",
       "      <th>rub_monthly_fee</th>\n",
       "      <th>city</th>\n",
       "      <th>tariff</th>\n",
       "    </tr>\n",
       "  </thead>\n",
       "  <tbody>\n",
       "    <tr>\n",
       "      <th>0</th>\n",
       "      <td>1000</td>\n",
       "      <td>5</td>\n",
       "      <td>1950</td>\n",
       "      <td>0</td>\n",
       "      <td>0</td>\n",
       "      <td>0</td>\n",
       "      <td>1950</td>\n",
       "      <td>Краснодар</td>\n",
       "      <td>ultra</td>\n",
       "    </tr>\n",
       "    <tr>\n",
       "      <th>1</th>\n",
       "      <td>1000</td>\n",
       "      <td>6</td>\n",
       "      <td>1950</td>\n",
       "      <td>0</td>\n",
       "      <td>0</td>\n",
       "      <td>0</td>\n",
       "      <td>1950</td>\n",
       "      <td>Краснодар</td>\n",
       "      <td>ultra</td>\n",
       "    </tr>\n",
       "    <tr>\n",
       "      <th>2</th>\n",
       "      <td>1000</td>\n",
       "      <td>7</td>\n",
       "      <td>1950</td>\n",
       "      <td>0</td>\n",
       "      <td>0</td>\n",
       "      <td>0</td>\n",
       "      <td>1950</td>\n",
       "      <td>Краснодар</td>\n",
       "      <td>ultra</td>\n",
       "    </tr>\n",
       "    <tr>\n",
       "      <th>3</th>\n",
       "      <td>1000</td>\n",
       "      <td>8</td>\n",
       "      <td>1950</td>\n",
       "      <td>0</td>\n",
       "      <td>0</td>\n",
       "      <td>0</td>\n",
       "      <td>1950</td>\n",
       "      <td>Краснодар</td>\n",
       "      <td>ultra</td>\n",
       "    </tr>\n",
       "    <tr>\n",
       "      <th>4</th>\n",
       "      <td>1000</td>\n",
       "      <td>9</td>\n",
       "      <td>1950</td>\n",
       "      <td>0</td>\n",
       "      <td>0</td>\n",
       "      <td>0</td>\n",
       "      <td>1950</td>\n",
       "      <td>Краснодар</td>\n",
       "      <td>ultra</td>\n",
       "    </tr>\n",
       "    <tr>\n",
       "      <th>...</th>\n",
       "      <td>...</td>\n",
       "      <td>...</td>\n",
       "      <td>...</td>\n",
       "      <td>...</td>\n",
       "      <td>...</td>\n",
       "      <td>...</td>\n",
       "      <td>...</td>\n",
       "      <td>...</td>\n",
       "      <td>...</td>\n",
       "    </tr>\n",
       "    <tr>\n",
       "      <th>3288</th>\n",
       "      <td>1489</td>\n",
       "      <td>9</td>\n",
       "      <td>950</td>\n",
       "      <td>0</td>\n",
       "      <td>0</td>\n",
       "      <td>400</td>\n",
       "      <td>550</td>\n",
       "      <td>Санкт-Петербург</td>\n",
       "      <td>smart</td>\n",
       "    </tr>\n",
       "    <tr>\n",
       "      <th>3289</th>\n",
       "      <td>1489</td>\n",
       "      <td>10</td>\n",
       "      <td>1550</td>\n",
       "      <td>0</td>\n",
       "      <td>0</td>\n",
       "      <td>1000</td>\n",
       "      <td>550</td>\n",
       "      <td>Санкт-Петербург</td>\n",
       "      <td>smart</td>\n",
       "    </tr>\n",
       "    <tr>\n",
       "      <th>3290</th>\n",
       "      <td>1489</td>\n",
       "      <td>11</td>\n",
       "      <td>1150</td>\n",
       "      <td>0</td>\n",
       "      <td>0</td>\n",
       "      <td>600</td>\n",
       "      <td>550</td>\n",
       "      <td>Санкт-Петербург</td>\n",
       "      <td>smart</td>\n",
       "    </tr>\n",
       "    <tr>\n",
       "      <th>3291</th>\n",
       "      <td>1489</td>\n",
       "      <td>12</td>\n",
       "      <td>950</td>\n",
       "      <td>0</td>\n",
       "      <td>0</td>\n",
       "      <td>400</td>\n",
       "      <td>550</td>\n",
       "      <td>Санкт-Петербург</td>\n",
       "      <td>smart</td>\n",
       "    </tr>\n",
       "    <tr>\n",
       "      <th>3294</th>\n",
       "      <td>1476</td>\n",
       "      <td>4</td>\n",
       "      <td>1950</td>\n",
       "      <td>0</td>\n",
       "      <td>0</td>\n",
       "      <td>0</td>\n",
       "      <td>1950</td>\n",
       "      <td>Москва</td>\n",
       "      <td>ultra</td>\n",
       "    </tr>\n",
       "  </tbody>\n",
       "</table>\n",
       "<p>3203 rows × 9 columns</p>\n",
       "</div>"
      ],
      "text/plain": [
       "      user_id  month  total  spent_on_calls  spent_on_messages  \\\n",
       "0        1000      5   1950               0                  0   \n",
       "1        1000      6   1950               0                  0   \n",
       "2        1000      7   1950               0                  0   \n",
       "3        1000      8   1950               0                  0   \n",
       "4        1000      9   1950               0                  0   \n",
       "...       ...    ...    ...             ...                ...   \n",
       "3288     1489      9    950               0                  0   \n",
       "3289     1489     10   1550               0                  0   \n",
       "3290     1489     11   1150               0                  0   \n",
       "3291     1489     12    950               0                  0   \n",
       "3294     1476      4   1950               0                  0   \n",
       "\n",
       "      spent_on_traffic  rub_monthly_fee             city tariff  \n",
       "0                    0             1950        Краснодар  ultra  \n",
       "1                    0             1950        Краснодар  ultra  \n",
       "2                    0             1950        Краснодар  ultra  \n",
       "3                    0             1950        Краснодар  ultra  \n",
       "4                    0             1950        Краснодар  ultra  \n",
       "...                ...              ...              ...    ...  \n",
       "3288               400              550  Санкт-Петербург  smart  \n",
       "3289              1000              550  Санкт-Петербург  smart  \n",
       "3290               600              550  Санкт-Петербург  smart  \n",
       "3291               400              550  Санкт-Петербург  smart  \n",
       "3294                 0             1950           Москва  ultra  \n",
       "\n",
       "[3203 rows x 9 columns]"
      ]
     },
     "execution_count": 37,
     "metadata": {},
     "output_type": "execute_result"
    }
   ],
   "source": [
    "#посмотрим, что получилось\n",
    "monthly_revenue"
   ]
  },
  {
   "cell_type": "markdown",
   "metadata": {},
   "source": [
    "## <a id=\"step3\">Шаг 3. Анализ данных </a>"
   ]
  },
  {
   "cell_type": "markdown",
   "metadata": {},
   "source": [
    "### Таблица средних количеств, дисперсий и стандартных отклонений"
   ]
  },
  {
   "cell_type": "code",
   "execution_count": 38,
   "metadata": {},
   "outputs": [
    {
     "data": {
      "text/html": [
       "<div>\n",
       "<style scoped>\n",
       "    .dataframe tbody tr th:only-of-type {\n",
       "        vertical-align: middle;\n",
       "    }\n",
       "\n",
       "    .dataframe tbody tr th {\n",
       "        vertical-align: top;\n",
       "    }\n",
       "\n",
       "    .dataframe thead tr th {\n",
       "        text-align: left;\n",
       "    }\n",
       "\n",
       "    .dataframe thead tr:last-of-type th {\n",
       "        text-align: right;\n",
       "    }\n",
       "</style>\n",
       "<table border=\"1\" class=\"dataframe\">\n",
       "  <thead>\n",
       "    <tr>\n",
       "      <th></th>\n",
       "      <th colspan=\"3\" halign=\"left\">mb_spent</th>\n",
       "      <th colspan=\"3\" halign=\"left\">messages_spent</th>\n",
       "      <th colspan=\"3\" halign=\"left\">minutes_spent</th>\n",
       "      <th colspan=\"3\" halign=\"left\">total</th>\n",
       "    </tr>\n",
       "    <tr>\n",
       "      <th></th>\n",
       "      <th>mean</th>\n",
       "      <th>std</th>\n",
       "      <th>var</th>\n",
       "      <th>mean</th>\n",
       "      <th>std</th>\n",
       "      <th>var</th>\n",
       "      <th>mean</th>\n",
       "      <th>std</th>\n",
       "      <th>var</th>\n",
       "      <th>mean</th>\n",
       "      <th>std</th>\n",
       "      <th>var</th>\n",
       "    </tr>\n",
       "    <tr>\n",
       "      <th>tariff</th>\n",
       "      <th></th>\n",
       "      <th></th>\n",
       "      <th></th>\n",
       "      <th></th>\n",
       "      <th></th>\n",
       "      <th></th>\n",
       "      <th></th>\n",
       "      <th></th>\n",
       "      <th></th>\n",
       "      <th></th>\n",
       "      <th></th>\n",
       "      <th></th>\n",
       "    </tr>\n",
       "  </thead>\n",
       "  <tbody>\n",
       "    <tr>\n",
       "      <th>smart</th>\n",
       "      <td>16236</td>\n",
       "      <td>5868</td>\n",
       "      <td>34443100</td>\n",
       "      <td>38</td>\n",
       "      <td>26</td>\n",
       "      <td>717</td>\n",
       "      <td>477</td>\n",
       "      <td>214</td>\n",
       "      <td>45928</td>\n",
       "      <td>1405</td>\n",
       "      <td>886</td>\n",
       "      <td>785021</td>\n",
       "    </tr>\n",
       "    <tr>\n",
       "      <th>ultra</th>\n",
       "      <td>19686</td>\n",
       "      <td>9952</td>\n",
       "      <td>99043439</td>\n",
       "      <td>61</td>\n",
       "      <td>46</td>\n",
       "      <td>2119</td>\n",
       "      <td>625</td>\n",
       "      <td>348</td>\n",
       "      <td>121446</td>\n",
       "      <td>2074</td>\n",
       "      <td>386</td>\n",
       "      <td>149656</td>\n",
       "    </tr>\n",
       "  </tbody>\n",
       "</table>\n",
       "</div>"
      ],
      "text/plain": [
       "       mb_spent                 messages_spent           minutes_spent       \\\n",
       "           mean   std       var           mean std   var          mean  std   \n",
       "tariff                                                                        \n",
       "smart     16236  5868  34443100             38  26   717           477  214   \n",
       "ultra     19686  9952  99043439             61  46  2119           625  348   \n",
       "\n",
       "               total               \n",
       "           var  mean  std     var  \n",
       "tariff                             \n",
       "smart    45928  1405  886  785021  \n",
       "ultra   121446  2074  386  149656  "
      ]
     },
     "execution_count": 38,
     "metadata": {},
     "output_type": "execute_result"
    }
   ],
   "source": [
    "stat_table = user_spent.pivot_table(index = 'tariff', values = ('minutes_spent', 'messages_spent', 'mb_spent', 'total'), aggfunc = ('mean', 'var', 'std')).astype('int')\n",
    "stat_table"
   ]
  },
  {
   "cell_type": "markdown",
   "metadata": {},
   "source": [
    "Средние, дисперсии и стандартные отклонения отличаются довольно сильно, стоит учитывать это при проведении статистического теста"
   ]
  },
  {
   "cell_type": "markdown",
   "metadata": {},
   "source": [
    "### Минуты, сообщения и интернет-трафик, которые требуются пользователям каждого тарифа в месяц"
   ]
  },
  {
   "cell_type": "code",
   "execution_count": 39,
   "metadata": {},
   "outputs": [
    {
     "data": {
      "image/png": "[encoded data removed]",
      "text/plain": [
       "<Figure size 1080x1800 with 12 Axes>"
      ]
     },
     "metadata": {
      "needs_background": "light"
     },
     "output_type": "display_data"
    }
   ],
   "source": [
    "fig, ax = plt.subplots(nrows=6, ncols=2,  figsize = (15,25))\n",
    "fig.subplots_adjust(wspace=0.5, hspace = 0.5)\n",
    "sns.distplot(user_spent.query('tariff == \"smart\"')['minutes_spent'], ax=ax[0, 0]).set_title('Минуты, потраченные на тарифе Smart')\n",
    "sns.distplot(user_spent.query('tariff == \"ultra\"')['minutes_spent'], ax=ax[0, 1]).set_title('Минуты, потраченные на тарифе Ultra')\n",
    "sns.boxplot(user_spent.query('tariff == \"ultra\"')['minutes_spent'], ax=ax[1, 0])\n",
    "sns.boxplot(user_spent.query('tariff == \"smart\"')['minutes_spent'], ax=ax[1, 1])\n",
    "sns.distplot(user_spent.query('tariff == \"smart\"')['messages_spent'], ax=ax[2, 0]).set_title('Сообщения, потраченные на тарифе Smart')\n",
    "sns.distplot(user_spent.query('tariff == \"ultra\"')['messages_spent'], ax=ax[2, 1]).set_title('Сообщения, потраченные на тарифе Ultra')\n",
    "sns.boxplot(user_spent.query('tariff == \"ultra\"')['messages_spent'], ax=ax[3, 0])\n",
    "sns.boxplot(user_spent.query('tariff == \"smart\"')['messages_spent'], ax=ax[3, 1])\n",
    "sns.distplot(user_spent.query('tariff == \"smart\"')['mb_spent'], ax=ax[4, 0]).set_title('Интернет-трафик, потраченный на тарифе Smart')\n",
    "sns.distplot(user_spent.query('tariff == \"ultra\"')['mb_spent'], ax=ax[4, 1]).set_title('Интернет-трафик, потраченный на тарифе Ultra')\n",
    "sns.boxplot(user_spent.query('tariff == \"ultra\"')['mb_spent'], ax=ax[5, 0])\n",
    "sns.boxplot(user_spent.query('tariff == \"smart\"')['mb_spent'], ax=ax[5, 1])\n",
    "plt.show()"
   ]
  },
  {
   "cell_type": "markdown",
   "metadata": {},
   "source": [
    "### Вывод"
   ]
  },
  {
   "cell_type": "markdown",
   "metadata": {},
   "source": [
    "Данные распределены нормально. За лимит предоставленных минут, сообщений и мобильного трафика выходят только пользователи тарифа Smart. Абонетам тарифа Ultra хватает того, что предоставляется в пакете. Всего 134 человека пользовались интернетом на тарифе Ultra, больше, чем было включенно в цену.\n",
    "\n",
    "Графики, отражающие сколько сообщений отправляют абоненты, скошены влево, т.к. в современном мире смс не самый популярный способ связи, ему на смену давно пришли мессенджеры. "
   ]
  },
  {
   "cell_type": "markdown",
   "metadata": {},
   "source": [
    "## <a id=\"step4\">Шаг 4. Проверка гипотез </a>"
   ]
  },
  {
   "cell_type": "markdown",
   "metadata": {},
   "source": [
    "### Гипотеза: средняя выручка пользователей тарифов «Ультра» и «Смарт» различается"
   ]
  },
  {
   "cell_type": "markdown",
   "metadata": {},
   "source": [
    "Нам нужно понять различается ли средняя выручка, приэтом было бы неправильно просто взять два средних значения и сравнить их, т.к. останется непонятным, является ли это различие статистически значимым. Поэтому воспользуемся для проверки этой гипотезы t-критерием Стьюдента. t-критерий Стьюдента применяется для сравнения средних значений двух независимых между собой выборок, при условии, что данные распределены нормально и данные не коррелируют между собой. \n",
    "- Нулевая гипотеза: средняя выручка пользователей тарифов «Ультра» и «Смарт» не различается\n",
    "- Альтернативная гипотеза: средняя выручка всё же различается\n"
   ]
  },
  {
   "cell_type": "code",
   "execution_count": 40,
   "metadata": {},
   "outputs": [],
   "source": [
    "monthly_revenue_ultra = monthly_revenue.query('tariff == \"ultra\"')\n",
    "monthly_revenue_smart = monthly_revenue.query('tariff == \"smart\"')"
   ]
  },
  {
   "cell_type": "code",
   "execution_count": 41,
   "metadata": {},
   "outputs": [
    {
     "name": "stdout",
     "output_type": "stream",
     "text": [
      "p-value 2.205287428395741e-171\n",
      "Отвергаем нулевую гипотезу\n"
     ]
    }
   ],
   "source": [
    "monthly_revenue_tariff = st.ttest_ind(\n",
    "    monthly_revenue_ultra['total'],\n",
    "    monthly_revenue_smart['total'],\n",
    "    equal_var = False) #т.к. дисперсии не равны\n",
    "alpha = 0.05\n",
    "print('p-value', monthly_revenue_tariff.pvalue)\n",
    "if (monthly_revenue_tariff.pvalue < alpha):\n",
    "    print(\"Отвергаем нулевую гипотезу\")\n",
    "else:\n",
    "    print(\"Не получилось отвергнуть нулевую гипотезу\")"
   ]
  },
  {
   "cell_type": "markdown",
   "metadata": {},
   "source": [
    "Мы получили такое p значение, которое позволяет нам отвергнуть нулевую гипотезу и говорить о том, средняя месячная прибыль с каждого пользователя отличается в зависимости от тарифа."
   ]
  },
  {
   "cell_type": "markdown",
   "metadata": {},
   "source": [
    "### Гипотеза: средняя выручка пользователей из Москвы отличается от выручки пользователей из других регионов"
   ]
  },
  {
   "cell_type": "markdown",
   "metadata": {},
   "source": [
    "- Нулевая гипотеза: средняя выручка пользователей из Москвы не отличается от выручки пользователей из других регионов\n",
    "- Альтернативная гипотеза: средняя прибыль в разных столице и в регионах будет разной\n",
    "\n",
    "Воспользуемся также для проверки этой гипотезы t-критерием Стьюдента"
   ]
  },
  {
   "cell_type": "code",
   "execution_count": 42,
   "metadata": {},
   "outputs": [],
   "source": [
    "monthly_revenue_moscow = monthly_revenue.query('city == \"Москва\"')\n",
    "monthly_revenue_region = monthly_revenue.query('city != \"Москва\"')"
   ]
  },
  {
   "cell_type": "code",
   "execution_count": 43,
   "metadata": {},
   "outputs": [
    {
     "name": "stdout",
     "output_type": "stream",
     "text": [
      "p-value 0.8083917077666594\n",
      "Не получилось отвергнуть нулевую гипотезу\n"
     ]
    }
   ],
   "source": [
    "monthly_revenue_city = st.ttest_ind(\n",
    "    monthly_revenue_moscow['total'],\n",
    "    monthly_revenue_region['total'],\n",
    "    equal_var = False) #т.к. дисперсии не равны\n",
    "alpha = 0.05\n",
    "print('p-value', monthly_revenue_city.pvalue)\n",
    "if (monthly_revenue_city.pvalue < alpha):\n",
    "    print(\"Отвергаем нулевую гипотезу\")\n",
    "else:\n",
    "    print(\"Не получилось отвергнуть нулевую гипотезу\")"
   ]
  },
  {
   "cell_type": "markdown",
   "metadata": {},
   "source": [
    "p значение не позволяет нам отвергнуть нулевую гипотезу, а значит вне зависимости от того, в каком регионе живет человек, в среднем он приносит примерно одну и ту же прибыль мобильному оператору."
   ]
  },
  {
   "cell_type": "markdown",
   "metadata": {},
   "source": [
    "## <a id=\"step5\">Шаг 5. Общий вывод </a>"
   ]
  },
  {
   "cell_type": "markdown",
   "metadata": {},
   "source": [
    "Пранализировав предоставленные мобильным оператором данные можно сказать, что:\n",
    "- Тариф Ultra приносит значительно больше денег, несмотря на то, что его пользователи реже выходят за свой лимит, а значит не платят за дополнительные услуги\n",
    "- Москва не сильно отличается от регионов по уровню средней месячной выручки с абонента\n",
    "    \n",
    "Следует отметить, что условия данного проекта немного оторванны от реальности. Как минимум цены  и тарифные условия  отличаются в зависимости от региона. А цена на тариф Ultra неправдопадобно высокая. Возможно с более низкой ценой на этот тариф, получились бы другие результаты.\n",
    "\n",
    "Однако, анализ проведен, и из него следует, что деньги необходимо вкладывать в рекламу тарифа Ultra по всей стране. "
   ]
  }
 ],
 "metadata": {
  "kernelspec": {
   "display_name": "Python 3",
   "language": "python",
   "name": "python3"
  },
  "language_info": {
   "codemirror_mode": {
    "name": "ipython",
    "version": 3
   },
   "file_extension": ".py",
   "mimetype": "text/x-python",
   "name": "python",
   "nbconvert_exporter": "python",
   "pygments_lexer": "ipython3",
   "version": "3.7.6"
  },
  "varInspector": {
   "cols": {
    "lenName": 16,
    "lenType": 16,
    "lenVar": 40
   },
   "kernels_config": {
    "python": {
     "delete_cmd_postfix": "",
     "delete_cmd_prefix": "del ",
     "library": "var_list.py",
     "varRefreshCmd": "print(var_dic_list())"
    },
    "r": {
     "delete_cmd_postfix": ") ",
     "delete_cmd_prefix": "rm(",
     "library": "var_list.r",
     "varRefreshCmd": "cat(var_dic_list()) "
    }
   },
   "types_to_exclude": [
    "module",
    "function",
    "builtin_function_or_method",
    "instance",
    "_Feature"
   ],
   "window_display": false
  }
 },
 "nbformat": 4,
 "nbformat_minor": 2
}
